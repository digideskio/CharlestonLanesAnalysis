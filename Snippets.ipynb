{
 "cells": [
  {
   "cell_type": "code",
   "execution_count": 1,
   "metadata": {
    "collapsed": true
   },
   "outputs": [],
   "source": [
    "%matplotlib inline\n",
    "import matplotlib.pyplot as plt\n",
    "import numpy as np\n",
    "import pandas as pd\n",
    "from mpl_toolkits.basemap import Basemap\n",
    "from mpl_toolkits.basemap import pyproj\n",
    "from matplotlib.collections import PatchCollection\n",
    "from descartes.patch import PolygonPatch\n",
    "from pyproj import Proj, transform\n",
    "\n",
    "from shapely.geometry import Point, Polygon, MultiPoint, MultiPolygon, shape\n",
    "import fiona\n",
    "from fiona.crs import to_string\n",
    "\n",
    "from itertools import chain\n",
    "\n",
    "import urllib\n",
    "\n",
    "import geopandas as gpd"
   ]
  },
  {
   "cell_type": "code",
   "execution_count": 2,
   "metadata": {
    "collapsed": true
   },
   "outputs": [],
   "source": [
    "transits = gpd.GeoDataFrame.from_file('data/transits.shp').replace({-999: None})"
   ]
  },
  {
   "cell_type": "code",
   "execution_count": 8,
   "metadata": {
    "collapsed": false
   },
   "outputs": [
    {
     "data": {
      "text/plain": [
       "{'init': 'epsg:4326'}"
      ]
     },
     "execution_count": 8,
     "metadata": {},
     "output_type": "execute_result"
    }
   ],
   "source": [
    "transits.crs"
   ]
  },
  {
   "cell_type": "code",
   "execution_count": null,
   "metadata": {
    "collapsed": true
   },
   "outputs": [],
   "source": [
    "ll = hab_model_bounds[0], hab_model_bounds[1]\n",
    "ur = hab_model_bounds[2], hab_model_bounds[3]\n",
    "coords = list(chain(ll, ur))\n",
    "\n",
    "# Convert to WGS84\n",
    "coords_wgs = hab_model_proj(*coords[:2], inverse=True) + hab_model_proj(*coords[2:], inverse=True)\n",
    "w, h = coords_wgs[2] - coords_wgs[0], coords_wgs[3] - coords_wgs[1]"
   ]
  },
  {
   "cell_type": "code",
   "execution_count": null,
   "metadata": {
    "collapsed": true
   },
   "outputs": [],
   "source": [
    "upper_limit = 33\n",
    "lower_limit = 31.683\n",
    "\n",
    "basemap_sc = Basemap(ax=None,\n",
    "    llcrnrlon=-81.5,\n",
    "    llcrnrlat=lower_limit - extra*w,\n",
    "    urcrnrlon=-77.5,\n",
    "    urcrnrlat=upper_limit + extra*w,\n",
    "    resolution='i',\n",
    "    epsg='4326')"
   ]
  },
  {
   "cell_type": "code",
   "execution_count": 11,
   "metadata": {
    "collapsed": false
   },
   "outputs": [
    {
     "data": {
      "text/html": [
       "<div style=\"max-height:1000px;max-width:1500px;overflow:auto;\">\n",
       "<table border=\"1\" class=\"dataframe\">\n",
       "  <thead>\n",
       "    <tr style=\"text-align: right;\">\n",
       "      <th></th>\n",
       "      <th>CALLSIGN</th>\n",
       "      <th>FLAG</th>\n",
       "      <th>FLAG_TYPE</th>\n",
       "      <th>IMO</th>\n",
       "      <th>LOA</th>\n",
       "      <th>MMSI</th>\n",
       "      <th>NAME</th>\n",
       "      <th>SOV</th>\n",
       "      <th>TR_END</th>\n",
       "      <th>TR_HRS</th>\n",
       "      <th>TR_NMS</th>\n",
       "      <th>TR_PERIOD</th>\n",
       "      <th>TR_RECS</th>\n",
       "      <th>TR_START</th>\n",
       "      <th>TYPE</th>\n",
       "      <th>geometry</th>\n",
       "    </tr>\n",
       "  </thead>\n",
       "  <tbody>\n",
       "    <tr>\n",
       "      <th>0</th>\n",
       "      <td>   A8KM7</td>\n",
       "      <td>                             Liberia (Republic of)</td>\n",
       "      <td>  Foreign</td>\n",
       "      <td> 9344033</td>\n",
       "      <td> 183</td>\n",
       "      <td> 636013087</td>\n",
       "      <td> Tverskoy Bridge</td>\n",
       "      <td> N</td>\n",
       "      <td> 2011-11-01 00:41:35+00</td>\n",
       "      <td>  0.68</td>\n",
       "      <td>  8.1</td>\n",
       "      <td> 2011-2012</td>\n",
       "      <td>   18</td>\n",
       "      <td> 2011-11-01 00:00:35+00</td>\n",
       "      <td>   Tanker</td>\n",
       "      <td> (LINESTRING (-79.37621699999994 32.66900000000...</td>\n",
       "    </tr>\n",
       "    <tr>\n",
       "      <th>1</th>\n",
       "      <td>   A8OS2</td>\n",
       "      <td>                             Liberia (Republic of)</td>\n",
       "      <td>  Foreign</td>\n",
       "      <td> 9353266</td>\n",
       "      <td> 269</td>\n",
       "      <td> 636013695</td>\n",
       "      <td>       Ym Elixir</td>\n",
       "      <td> N</td>\n",
       "      <td> 2011-11-01 01:07:24+00</td>\n",
       "      <td>  1.11</td>\n",
       "      <td> 14.6</td>\n",
       "      <td> 2011-2012</td>\n",
       "      <td>   37</td>\n",
       "      <td> 2011-11-01 00:00:46+00</td>\n",
       "      <td>    Cargo</td>\n",
       "      <td> (LINESTRING (-79.44591699999995 32.60640000000...</td>\n",
       "    </tr>\n",
       "    <tr>\n",
       "      <th>2</th>\n",
       "      <td> WSW6620</td>\n",
       "      <td>                          United States of America</td>\n",
       "      <td> Domestic</td>\n",
       "      <td>       0</td>\n",
       "      <td>  18</td>\n",
       "      <td> 367061140</td>\n",
       "      <td>        Savannah</td>\n",
       "      <td> N</td>\n",
       "      <td> 2011-11-01 00:37:12+00</td>\n",
       "      <td>  0.61</td>\n",
       "      <td> 11.7</td>\n",
       "      <td> 2011-2012</td>\n",
       "      <td>   28</td>\n",
       "      <td> 2011-11-01 00:00:52+00</td>\n",
       "      <td>    Pilot</td>\n",
       "      <td> (LINESTRING (-80.78339299999993 31.99384500000...</td>\n",
       "    </tr>\n",
       "    <tr>\n",
       "      <th>3</th>\n",
       "      <td>   VRGA7</td>\n",
       "      <td> Hong Kong (Special Administrative Region of Ch...</td>\n",
       "      <td>  Foreign</td>\n",
       "      <td> 9231810</td>\n",
       "      <td> 293</td>\n",
       "      <td> 477634700</td>\n",
       "      <td>    Zim New York</td>\n",
       "      <td> N</td>\n",
       "      <td> 2011-11-01 07:45:17+00</td>\n",
       "      <td>  7.74</td>\n",
       "      <td> 17.3</td>\n",
       "      <td> 2011-2012</td>\n",
       "      <td>  182</td>\n",
       "      <td> 2011-11-01 00:01:10+00</td>\n",
       "      <td>    Cargo</td>\n",
       "      <td> (LINESTRING (-79.56774999999993 32.64030000000...</td>\n",
       "    </tr>\n",
       "    <tr>\n",
       "      <th>4</th>\n",
       "      <td>    None</td>\n",
       "      <td>                          United States of America</td>\n",
       "      <td> Domestic</td>\n",
       "      <td>       0</td>\n",
       "      <td>  19</td>\n",
       "      <td> 338108309</td>\n",
       "      <td>      Lucky Star</td>\n",
       "      <td> N</td>\n",
       "      <td> 2011-11-02 11:39:31+00</td>\n",
       "      <td> 35.64</td>\n",
       "      <td>  3.0</td>\n",
       "      <td> 2011-2012</td>\n",
       "      <td> 1467</td>\n",
       "      <td> 2011-11-01 00:01:12+00</td>\n",
       "      <td> Pleasure</td>\n",
       "      <td> (LINESTRING (-79.75942499999991 32.80539700000...</td>\n",
       "    </tr>\n",
       "  </tbody>\n",
       "</table>\n",
       "</div>"
      ],
      "text/plain": [
       "  CALLSIGN                                               FLAG FLAG_TYPE  \\\n",
       "0    A8KM7                              Liberia (Republic of)   Foreign   \n",
       "1    A8OS2                              Liberia (Republic of)   Foreign   \n",
       "2  WSW6620                           United States of America  Domestic   \n",
       "3    VRGA7  Hong Kong (Special Administrative Region of Ch...   Foreign   \n",
       "4     None                           United States of America  Domestic   \n",
       "\n",
       "       IMO  LOA       MMSI             NAME SOV                  TR_END  \\\n",
       "0  9344033  183  636013087  Tverskoy Bridge   N  2011-11-01 00:41:35+00   \n",
       "1  9353266  269  636013695        Ym Elixir   N  2011-11-01 01:07:24+00   \n",
       "2        0   18  367061140         Savannah   N  2011-11-01 00:37:12+00   \n",
       "3  9231810  293  477634700     Zim New York   N  2011-11-01 07:45:17+00   \n",
       "4        0   19  338108309       Lucky Star   N  2011-11-02 11:39:31+00   \n",
       "\n",
       "   TR_HRS  TR_NMS  TR_PERIOD  TR_RECS                TR_START      TYPE  \\\n",
       "0    0.68     8.1  2011-2012       18  2011-11-01 00:00:35+00    Tanker   \n",
       "1    1.11    14.6  2011-2012       37  2011-11-01 00:00:46+00     Cargo   \n",
       "2    0.61    11.7  2011-2012       28  2011-11-01 00:00:52+00     Pilot   \n",
       "3    7.74    17.3  2011-2012      182  2011-11-01 00:01:10+00     Cargo   \n",
       "4   35.64     3.0  2011-2012     1467  2011-11-01 00:01:12+00  Pleasure   \n",
       "\n",
       "                                            geometry  \n",
       "0  (LINESTRING (-79.37621699999994 32.66900000000...  \n",
       "1  (LINESTRING (-79.44591699999995 32.60640000000...  \n",
       "2  (LINESTRING (-80.78339299999993 31.99384500000...  \n",
       "3  (LINESTRING (-79.56774999999993 32.64030000000...  \n",
       "4  (LINESTRING (-79.75942499999991 32.80539700000...  "
      ]
     },
     "execution_count": 11,
     "metadata": {},
     "output_type": "execute_result"
    }
   ],
   "source": [
    "transits.head()"
   ]
  },
  {
   "cell_type": "code",
   "execution_count": null,
   "metadata": {
    "collapsed": true
   },
   "outputs": [],
   "source": []
  }
 ],
 "metadata": {
  "kernelspec": {
   "display_name": "Python 3",
   "name": "python3"
  },
  "language_info": {
   "codemirror_mode": {
    "name": "ipython",
    "version": 3
   },
   "file_extension": ".py",
   "mimetype": "text/x-python",
   "name": "python",
   "nbconvert_exporter": "python",
   "pygments_lexer": "ipython3",
   "version": "3.4.2"
  }
 },
 "nbformat": 4,
 "nbformat_minor": 0
}