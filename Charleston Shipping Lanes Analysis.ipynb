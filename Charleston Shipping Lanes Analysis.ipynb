{
 "metadata": {
  "name": "",
  "signature": "sha256:b64dd8adf7550a5a94b5924c88443d7c17b3da936de46cf5b6f9c8aa5a604483"
 },
 "nbformat": 3,
 "nbformat_minor": 0,
 "worksheets": [
  {
   "cells": [
    {
     "cell_type": "code",
     "collapsed": false,
     "input": [
      "# Unzip huge transits shapefile\n",
      "!unzip data/transits_20141010_1043.zip"
     ],
     "language": "python",
     "metadata": {},
     "outputs": [
      {
       "output_type": "stream",
       "stream": "stdout",
       "text": [
        "Archive:  data/transits_20141010_1043.zip\n",
        "  inflating: transits.dbf            \n",
        "  inflating: transits.prj            \n",
        "  inflating: transits.shp            \n",
        "  inflating: transits.shp.xml        \n",
        "  inflating: transits.shx            \n"
       ]
      }
     ],
     "prompt_number": 1
    },
    {
     "cell_type": "code",
     "collapsed": true,
     "input": [],
     "language": "python",
     "metadata": {},
     "outputs": []
    }
   ],
   "metadata": {}
  }
 ]
}